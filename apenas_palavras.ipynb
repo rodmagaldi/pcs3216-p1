{
 "cells": [
  {
   "cell_type": "markdown",
   "id": "2c27ee97",
   "metadata": {},
   "source": [
    "# Sistemas de Programação - PCS 3216 - Prova 1"
   ]
  },
  {
   "cell_type": "markdown",
   "id": "3ee13a56",
   "metadata": {},
   "source": [
    "## Enunciado 5 - Decomposição de texto"
   ]
  },
  {
   "cell_type": "markdown",
   "id": "e0e22c5c",
   "metadata": {},
   "source": [
    "Neste problema, é dado um arquivo de texto, contendo material redigido em alguma língua natural (por exemplo, um artigo de jornal), e deseja-se coletar dele todas as palavras utilizadas, tabelando-as, ordenando-as alfabeticamente, e memorizando suas ocorrências."
   ]
  },
  {
   "cell_type": "markdown",
   "id": "f1ed86da",
   "metadata": {},
   "source": [
    "Usando uma lista de palavras-chave à sua escolha, separe em duas classes as palavras encontradas no texto, conforme se trate de uma palavra-chave ou uma palavra comum."
   ]
  },
  {
   "cell_type": "markdown",
   "id": "bec505e3",
   "metadata": {},
   "source": [
    "### Importando o arquivo .txt para o programa"
   ]
  },
  {
   "cell_type": "code",
   "execution_count": 12,
   "id": "76f428a4",
   "metadata": {
    "ExecuteTime": {
     "end_time": "2021-05-15T21:24:30.882023Z",
     "start_time": "2021-05-15T21:24:30.868983Z"
    }
   },
   "outputs": [],
   "source": [
    "text_file = open('teste.txt', 'r', encoding='utf-8')\n",
    "file_content = text_file.read()\n",
    "text_file.close()"
   ]
  },
  {
   "cell_type": "code",
   "execution_count": 13,
   "id": "f1d7870b",
   "metadata": {
    "ExecuteTime": {
     "end_time": "2021-05-15T21:24:30.897985Z",
     "start_time": "2021-05-15T21:24:30.883986Z"
    }
   },
   "outputs": [
    {
     "name": "stdout",
     "output_type": "stream",
     "text": [
      "O horizonte de eventos de um buraco negro é como se fosse o topo de uma cachoeira: \n",
      "imagine um peixe nadando num rio em direção ao topo da cachoeira; após certa distância, a água corre tão rapidamente que o peixe não consegue escapar apenas tentando nadar na direção oposta. O peixe, no caso, é o raio de luz se aproximando do buraco negro, sem conseguir escapar e \"caindo\" ali. Então, ao olhar para um buraco negro, saiba que existe luz e existe matéria ali, mas nós jamais poderemos ver isso, pois a luz não consegue escapar assim que \"cai\" de uma vez por todas.\n"
     ]
    }
   ],
   "source": [
    "print(file_content)"
   ]
  },
  {
   "cell_type": "markdown",
   "id": "d9099bc5",
   "metadata": {},
   "source": [
    "### Processando os dados obtidos no texto"
   ]
  },
  {
   "cell_type": "markdown",
   "id": "aff63cb2",
   "metadata": {},
   "source": [
    "Removendo caracteres especiais e tornando tudo caixa baixa:"
   ]
  },
  {
   "cell_type": "code",
   "execution_count": 14,
   "id": "79584b81",
   "metadata": {
    "ExecuteTime": {
     "end_time": "2021-05-15T21:24:30.914022Z",
     "start_time": "2021-05-15T21:24:30.901024Z"
    }
   },
   "outputs": [
    {
     "name": "stdout",
     "output_type": "stream",
     "text": [
      "o horizonte de eventos de um buraco negro é como se fosse o topo de uma cachoeira imagine um peixe nadando num rio em direção ao topo da cachoeira após certa distância a água corre tão rapidamente que o peixe não consegue escapar apenas tentando nadar na direção oposta o peixe no caso é o raio de luz se aproximando do buraco negro sem conseguir escapar e caindo ali então ao olhar para um buraco negro saiba que existe luz e existe matéria ali mas nós jamais poderemos ver isso pois a luz não consegue escapar assim que cai de uma vez por todas\n"
     ]
    }
   ],
   "source": [
    "import re\n",
    "file_content = re.sub('[^A-Za-z0-9À-ÿ ]+', '', file_content).lower()\n",
    "print(file_content)"
   ]
  },
  {
   "cell_type": "markdown",
   "id": "dfacbb70",
   "metadata": {},
   "source": [
    "Separação das palavras e ordenação alfabética:"
   ]
  },
  {
   "cell_type": "code",
   "execution_count": 15,
   "id": "0365112c",
   "metadata": {
    "ExecuteTime": {
     "end_time": "2021-05-15T21:24:30.929983Z",
     "start_time": "2021-05-15T21:24:30.916985Z"
    },
    "scrolled": true
   },
   "outputs": [
    {
     "name": "stdout",
     "output_type": "stream",
     "text": [
      "['a', 'a', 'água', 'ali', 'ali', 'ao', 'ao', 'apenas', 'após', 'aproximando', 'assim', 'buraco', 'buraco', 'buraco', 'cachoeira', 'cachoeira', 'cai', 'caindo', 'caso', 'certa', 'como', 'consegue', 'consegue', 'conseguir', 'corre', 'da', 'de', 'de', 'de', 'de', 'de', 'direção', 'direção', 'distância', 'do', 'e', 'e', 'é', 'é', 'em', 'então', 'escapar', 'escapar', 'escapar', 'eventos', 'existe', 'existe', 'fosse', 'horizonte', 'imagine', 'isso', 'jamais', 'luz', 'luz', 'luz', 'mas', 'matéria', 'na', 'nadando', 'nadar', 'não', 'não', 'negro', 'negro', 'negro', 'no', 'nós', 'num', 'o', 'o', 'o', 'o', 'o', 'olhar', 'oposta', 'para', 'peixe', 'peixe', 'peixe', 'poderemos', 'pois', 'por', 'que', 'que', 'que', 'raio', 'rapidamente', 'rio', 'saiba', 'se', 'se', 'sem', 'tão', 'tentando', 'todas', 'topo', 'topo', 'um', 'um', 'um', 'uma', 'uma', 'ver', 'vez']\n"
     ]
    }
   ],
   "source": [
    "words_list = file_content.split()\n",
    "\n",
    "import locale\n",
    "from functools import cmp_to_key\n",
    "\n",
    "locale.setlocale(locale.LC_ALL, 'pt_BR')\n",
    "\n",
    "words_list = sorted(words_list, key=cmp_to_key(locale.strcoll))\n",
    "print(words_list)"
   ]
  },
  {
   "cell_type": "markdown",
   "id": "87d61fe1",
   "metadata": {},
   "source": [
    "### Escolha das palavras-chave"
   ]
  },
  {
   "cell_type": "markdown",
   "id": "4bed7d42",
   "metadata": {},
   "source": [
    "Lista de palavras chave:"
   ]
  },
  {
   "cell_type": "code",
   "execution_count": 16,
   "id": "3871e6d4",
   "metadata": {
    "ExecuteTime": {
     "end_time": "2021-05-15T21:24:30.945988Z",
     "start_time": "2021-05-15T21:24:30.934996Z"
    }
   },
   "outputs": [],
   "source": [
    "keywords_list = ['o', 'Então', 'ali']"
   ]
  },
  {
   "cell_type": "markdown",
   "id": "72b2a02c",
   "metadata": {},
   "source": [
    "Tornando cada item caixa baixa:"
   ]
  },
  {
   "cell_type": "code",
   "execution_count": 17,
   "id": "74851339",
   "metadata": {
    "ExecuteTime": {
     "end_time": "2021-05-15T21:24:30.960996Z",
     "start_time": "2021-05-15T21:24:30.951991Z"
    }
   },
   "outputs": [
    {
     "name": "stdout",
     "output_type": "stream",
     "text": [
      "['o', 'então', 'ali']\n"
     ]
    }
   ],
   "source": [
    "keywords_list = list(map(lambda item: item.lower(), keywords_list))\n",
    "print(keywords_list)"
   ]
  },
  {
   "cell_type": "markdown",
   "id": "b3953013",
   "metadata": {},
   "source": [
    "### Lógica de contagem de palavras"
   ]
  },
  {
   "cell_type": "markdown",
   "id": "cc2c4966",
   "metadata": {},
   "source": [
    "Se a palavra já foi encontrada no texto, adiciona-se 1 ao contador desta palavra.\n",
    "\n",
    "Se não foi, cria-se o contador com o valor 1 e indica-se se a palavra é uma palavra-chave."
   ]
  },
  {
   "cell_type": "code",
   "execution_count": 18,
   "id": "bf13cf3b",
   "metadata": {
    "ExecuteTime": {
     "end_time": "2021-05-15T21:24:30.976994Z",
     "start_time": "2021-05-15T21:24:30.965985Z"
    }
   },
   "outputs": [],
   "source": [
    "words_count = {}\n",
    "\n",
    "for word in words_list:\n",
    "    if (word not in words_count.keys()):\n",
    "        inner_dict = {}\n",
    "        words_count[word] = inner_dict\n",
    "        inner_dict['count'] = 1\n",
    "        if (word in keywords_list):\n",
    "            inner_dict['keyword'] = True\n",
    "        else:\n",
    "            inner_dict['keyword'] = False\n",
    "    else:\n",
    "        words_count[word]['count'] += 1"
   ]
  },
  {
   "cell_type": "markdown",
   "id": "25366c35",
   "metadata": {},
   "source": [
    "### Visualização do resultado"
   ]
  },
  {
   "cell_type": "code",
   "execution_count": 19,
   "id": "d353e98a",
   "metadata": {
    "ExecuteTime": {
     "end_time": "2021-05-15T21:24:30.992985Z",
     "start_time": "2021-05-15T21:24:30.981986Z"
    }
   },
   "outputs": [],
   "source": [
    "import pandas as pd"
   ]
  },
  {
   "cell_type": "code",
   "execution_count": 20,
   "id": "4203123d",
   "metadata": {
    "ExecuteTime": {
     "end_time": "2021-05-15T21:24:31.023987Z",
     "start_time": "2021-05-15T21:24:30.997986Z"
    }
   },
   "outputs": [],
   "source": [
    "result = pd.DataFrame.from_dict(words_count, orient='index')\n",
    "pd.set_option('display.max_rows', None)"
   ]
  },
  {
   "cell_type": "code",
   "execution_count": 21,
   "id": "4b1c1986",
   "metadata": {
    "ExecuteTime": {
     "end_time": "2021-05-15T21:24:31.055982Z",
     "start_time": "2021-05-15T21:24:31.029001Z"
    }
   },
   "outputs": [
    {
     "data": {
      "text/html": [
       "<div>\n",
       "<style scoped>\n",
       "    .dataframe tbody tr th:only-of-type {\n",
       "        vertical-align: middle;\n",
       "    }\n",
       "\n",
       "    .dataframe tbody tr th {\n",
       "        vertical-align: top;\n",
       "    }\n",
       "\n",
       "    .dataframe thead th {\n",
       "        text-align: right;\n",
       "    }\n",
       "</style>\n",
       "<table border=\"1\" class=\"dataframe\">\n",
       "  <thead>\n",
       "    <tr style=\"text-align: right;\">\n",
       "      <th></th>\n",
       "      <th>count</th>\n",
       "      <th>keyword</th>\n",
       "    </tr>\n",
       "  </thead>\n",
       "  <tbody>\n",
       "    <tr>\n",
       "      <th>a</th>\n",
       "      <td>2</td>\n",
       "      <td>False</td>\n",
       "    </tr>\n",
       "    <tr>\n",
       "      <th>água</th>\n",
       "      <td>1</td>\n",
       "      <td>False</td>\n",
       "    </tr>\n",
       "    <tr>\n",
       "      <th>ali</th>\n",
       "      <td>2</td>\n",
       "      <td>True</td>\n",
       "    </tr>\n",
       "    <tr>\n",
       "      <th>ao</th>\n",
       "      <td>2</td>\n",
       "      <td>False</td>\n",
       "    </tr>\n",
       "    <tr>\n",
       "      <th>apenas</th>\n",
       "      <td>1</td>\n",
       "      <td>False</td>\n",
       "    </tr>\n",
       "    <tr>\n",
       "      <th>após</th>\n",
       "      <td>1</td>\n",
       "      <td>False</td>\n",
       "    </tr>\n",
       "    <tr>\n",
       "      <th>aproximando</th>\n",
       "      <td>1</td>\n",
       "      <td>False</td>\n",
       "    </tr>\n",
       "    <tr>\n",
       "      <th>assim</th>\n",
       "      <td>1</td>\n",
       "      <td>False</td>\n",
       "    </tr>\n",
       "    <tr>\n",
       "      <th>buraco</th>\n",
       "      <td>3</td>\n",
       "      <td>False</td>\n",
       "    </tr>\n",
       "    <tr>\n",
       "      <th>cachoeira</th>\n",
       "      <td>2</td>\n",
       "      <td>False</td>\n",
       "    </tr>\n",
       "    <tr>\n",
       "      <th>cai</th>\n",
       "      <td>1</td>\n",
       "      <td>False</td>\n",
       "    </tr>\n",
       "    <tr>\n",
       "      <th>caindo</th>\n",
       "      <td>1</td>\n",
       "      <td>False</td>\n",
       "    </tr>\n",
       "    <tr>\n",
       "      <th>caso</th>\n",
       "      <td>1</td>\n",
       "      <td>False</td>\n",
       "    </tr>\n",
       "    <tr>\n",
       "      <th>certa</th>\n",
       "      <td>1</td>\n",
       "      <td>False</td>\n",
       "    </tr>\n",
       "    <tr>\n",
       "      <th>como</th>\n",
       "      <td>1</td>\n",
       "      <td>False</td>\n",
       "    </tr>\n",
       "    <tr>\n",
       "      <th>consegue</th>\n",
       "      <td>2</td>\n",
       "      <td>False</td>\n",
       "    </tr>\n",
       "    <tr>\n",
       "      <th>conseguir</th>\n",
       "      <td>1</td>\n",
       "      <td>False</td>\n",
       "    </tr>\n",
       "    <tr>\n",
       "      <th>corre</th>\n",
       "      <td>1</td>\n",
       "      <td>False</td>\n",
       "    </tr>\n",
       "    <tr>\n",
       "      <th>da</th>\n",
       "      <td>1</td>\n",
       "      <td>False</td>\n",
       "    </tr>\n",
       "    <tr>\n",
       "      <th>de</th>\n",
       "      <td>5</td>\n",
       "      <td>False</td>\n",
       "    </tr>\n",
       "    <tr>\n",
       "      <th>direção</th>\n",
       "      <td>2</td>\n",
       "      <td>False</td>\n",
       "    </tr>\n",
       "    <tr>\n",
       "      <th>distância</th>\n",
       "      <td>1</td>\n",
       "      <td>False</td>\n",
       "    </tr>\n",
       "    <tr>\n",
       "      <th>do</th>\n",
       "      <td>1</td>\n",
       "      <td>False</td>\n",
       "    </tr>\n",
       "    <tr>\n",
       "      <th>e</th>\n",
       "      <td>2</td>\n",
       "      <td>False</td>\n",
       "    </tr>\n",
       "    <tr>\n",
       "      <th>é</th>\n",
       "      <td>2</td>\n",
       "      <td>False</td>\n",
       "    </tr>\n",
       "    <tr>\n",
       "      <th>em</th>\n",
       "      <td>1</td>\n",
       "      <td>False</td>\n",
       "    </tr>\n",
       "    <tr>\n",
       "      <th>então</th>\n",
       "      <td>1</td>\n",
       "      <td>True</td>\n",
       "    </tr>\n",
       "    <tr>\n",
       "      <th>escapar</th>\n",
       "      <td>3</td>\n",
       "      <td>False</td>\n",
       "    </tr>\n",
       "    <tr>\n",
       "      <th>eventos</th>\n",
       "      <td>1</td>\n",
       "      <td>False</td>\n",
       "    </tr>\n",
       "    <tr>\n",
       "      <th>existe</th>\n",
       "      <td>2</td>\n",
       "      <td>False</td>\n",
       "    </tr>\n",
       "    <tr>\n",
       "      <th>fosse</th>\n",
       "      <td>1</td>\n",
       "      <td>False</td>\n",
       "    </tr>\n",
       "    <tr>\n",
       "      <th>horizonte</th>\n",
       "      <td>1</td>\n",
       "      <td>False</td>\n",
       "    </tr>\n",
       "    <tr>\n",
       "      <th>imagine</th>\n",
       "      <td>1</td>\n",
       "      <td>False</td>\n",
       "    </tr>\n",
       "    <tr>\n",
       "      <th>isso</th>\n",
       "      <td>1</td>\n",
       "      <td>False</td>\n",
       "    </tr>\n",
       "    <tr>\n",
       "      <th>jamais</th>\n",
       "      <td>1</td>\n",
       "      <td>False</td>\n",
       "    </tr>\n",
       "    <tr>\n",
       "      <th>luz</th>\n",
       "      <td>3</td>\n",
       "      <td>False</td>\n",
       "    </tr>\n",
       "    <tr>\n",
       "      <th>mas</th>\n",
       "      <td>1</td>\n",
       "      <td>False</td>\n",
       "    </tr>\n",
       "    <tr>\n",
       "      <th>matéria</th>\n",
       "      <td>1</td>\n",
       "      <td>False</td>\n",
       "    </tr>\n",
       "    <tr>\n",
       "      <th>na</th>\n",
       "      <td>1</td>\n",
       "      <td>False</td>\n",
       "    </tr>\n",
       "    <tr>\n",
       "      <th>nadando</th>\n",
       "      <td>1</td>\n",
       "      <td>False</td>\n",
       "    </tr>\n",
       "    <tr>\n",
       "      <th>nadar</th>\n",
       "      <td>1</td>\n",
       "      <td>False</td>\n",
       "    </tr>\n",
       "    <tr>\n",
       "      <th>não</th>\n",
       "      <td>2</td>\n",
       "      <td>False</td>\n",
       "    </tr>\n",
       "    <tr>\n",
       "      <th>negro</th>\n",
       "      <td>3</td>\n",
       "      <td>False</td>\n",
       "    </tr>\n",
       "    <tr>\n",
       "      <th>no</th>\n",
       "      <td>1</td>\n",
       "      <td>False</td>\n",
       "    </tr>\n",
       "    <tr>\n",
       "      <th>nós</th>\n",
       "      <td>1</td>\n",
       "      <td>False</td>\n",
       "    </tr>\n",
       "    <tr>\n",
       "      <th>num</th>\n",
       "      <td>1</td>\n",
       "      <td>False</td>\n",
       "    </tr>\n",
       "    <tr>\n",
       "      <th>o</th>\n",
       "      <td>5</td>\n",
       "      <td>True</td>\n",
       "    </tr>\n",
       "    <tr>\n",
       "      <th>olhar</th>\n",
       "      <td>1</td>\n",
       "      <td>False</td>\n",
       "    </tr>\n",
       "    <tr>\n",
       "      <th>oposta</th>\n",
       "      <td>1</td>\n",
       "      <td>False</td>\n",
       "    </tr>\n",
       "    <tr>\n",
       "      <th>para</th>\n",
       "      <td>1</td>\n",
       "      <td>False</td>\n",
       "    </tr>\n",
       "    <tr>\n",
       "      <th>peixe</th>\n",
       "      <td>3</td>\n",
       "      <td>False</td>\n",
       "    </tr>\n",
       "    <tr>\n",
       "      <th>poderemos</th>\n",
       "      <td>1</td>\n",
       "      <td>False</td>\n",
       "    </tr>\n",
       "    <tr>\n",
       "      <th>pois</th>\n",
       "      <td>1</td>\n",
       "      <td>False</td>\n",
       "    </tr>\n",
       "    <tr>\n",
       "      <th>por</th>\n",
       "      <td>1</td>\n",
       "      <td>False</td>\n",
       "    </tr>\n",
       "    <tr>\n",
       "      <th>que</th>\n",
       "      <td>3</td>\n",
       "      <td>False</td>\n",
       "    </tr>\n",
       "    <tr>\n",
       "      <th>raio</th>\n",
       "      <td>1</td>\n",
       "      <td>False</td>\n",
       "    </tr>\n",
       "    <tr>\n",
       "      <th>rapidamente</th>\n",
       "      <td>1</td>\n",
       "      <td>False</td>\n",
       "    </tr>\n",
       "    <tr>\n",
       "      <th>rio</th>\n",
       "      <td>1</td>\n",
       "      <td>False</td>\n",
       "    </tr>\n",
       "    <tr>\n",
       "      <th>saiba</th>\n",
       "      <td>1</td>\n",
       "      <td>False</td>\n",
       "    </tr>\n",
       "    <tr>\n",
       "      <th>se</th>\n",
       "      <td>2</td>\n",
       "      <td>False</td>\n",
       "    </tr>\n",
       "    <tr>\n",
       "      <th>sem</th>\n",
       "      <td>1</td>\n",
       "      <td>False</td>\n",
       "    </tr>\n",
       "    <tr>\n",
       "      <th>tão</th>\n",
       "      <td>1</td>\n",
       "      <td>False</td>\n",
       "    </tr>\n",
       "    <tr>\n",
       "      <th>tentando</th>\n",
       "      <td>1</td>\n",
       "      <td>False</td>\n",
       "    </tr>\n",
       "    <tr>\n",
       "      <th>todas</th>\n",
       "      <td>1</td>\n",
       "      <td>False</td>\n",
       "    </tr>\n",
       "    <tr>\n",
       "      <th>topo</th>\n",
       "      <td>2</td>\n",
       "      <td>False</td>\n",
       "    </tr>\n",
       "    <tr>\n",
       "      <th>um</th>\n",
       "      <td>3</td>\n",
       "      <td>False</td>\n",
       "    </tr>\n",
       "    <tr>\n",
       "      <th>uma</th>\n",
       "      <td>2</td>\n",
       "      <td>False</td>\n",
       "    </tr>\n",
       "    <tr>\n",
       "      <th>ver</th>\n",
       "      <td>1</td>\n",
       "      <td>False</td>\n",
       "    </tr>\n",
       "    <tr>\n",
       "      <th>vez</th>\n",
       "      <td>1</td>\n",
       "      <td>False</td>\n",
       "    </tr>\n",
       "  </tbody>\n",
       "</table>\n",
       "</div>"
      ],
      "text/plain": [
       "             count  keyword\n",
       "a                2    False\n",
       "água             1    False\n",
       "ali              2     True\n",
       "ao               2    False\n",
       "apenas           1    False\n",
       "após             1    False\n",
       "aproximando      1    False\n",
       "assim            1    False\n",
       "buraco           3    False\n",
       "cachoeira        2    False\n",
       "cai              1    False\n",
       "caindo           1    False\n",
       "caso             1    False\n",
       "certa            1    False\n",
       "como             1    False\n",
       "consegue         2    False\n",
       "conseguir        1    False\n",
       "corre            1    False\n",
       "da               1    False\n",
       "de               5    False\n",
       "direção          2    False\n",
       "distância        1    False\n",
       "do               1    False\n",
       "e                2    False\n",
       "é                2    False\n",
       "em               1    False\n",
       "então            1     True\n",
       "escapar          3    False\n",
       "eventos          1    False\n",
       "existe           2    False\n",
       "fosse            1    False\n",
       "horizonte        1    False\n",
       "imagine          1    False\n",
       "isso             1    False\n",
       "jamais           1    False\n",
       "luz              3    False\n",
       "mas              1    False\n",
       "matéria          1    False\n",
       "na               1    False\n",
       "nadando          1    False\n",
       "nadar            1    False\n",
       "não              2    False\n",
       "negro            3    False\n",
       "no               1    False\n",
       "nós              1    False\n",
       "num              1    False\n",
       "o                5     True\n",
       "olhar            1    False\n",
       "oposta           1    False\n",
       "para             1    False\n",
       "peixe            3    False\n",
       "poderemos        1    False\n",
       "pois             1    False\n",
       "por              1    False\n",
       "que              3    False\n",
       "raio             1    False\n",
       "rapidamente      1    False\n",
       "rio              1    False\n",
       "saiba            1    False\n",
       "se               2    False\n",
       "sem              1    False\n",
       "tão              1    False\n",
       "tentando         1    False\n",
       "todas            1    False\n",
       "topo             2    False\n",
       "um               3    False\n",
       "uma              2    False\n",
       "ver              1    False\n",
       "vez              1    False"
      ]
     },
     "execution_count": 21,
     "metadata": {},
     "output_type": "execute_result"
    }
   ],
   "source": [
    "result"
   ]
  },
  {
   "cell_type": "code",
   "execution_count": 22,
   "id": "ab0e84b0",
   "metadata": {
    "ExecuteTime": {
     "end_time": "2021-05-15T21:24:31.087986Z",
     "start_time": "2021-05-15T21:24:31.064018Z"
    }
   },
   "outputs": [
    {
     "data": {
      "text/html": [
       "<div>\n",
       "<style scoped>\n",
       "    .dataframe tbody tr th:only-of-type {\n",
       "        vertical-align: middle;\n",
       "    }\n",
       "\n",
       "    .dataframe tbody tr th {\n",
       "        vertical-align: top;\n",
       "    }\n",
       "\n",
       "    .dataframe thead th {\n",
       "        text-align: right;\n",
       "    }\n",
       "</style>\n",
       "<table border=\"1\" class=\"dataframe\">\n",
       "  <thead>\n",
       "    <tr style=\"text-align: right;\">\n",
       "      <th></th>\n",
       "      <th>count</th>\n",
       "      <th>keyword</th>\n",
       "    </tr>\n",
       "  </thead>\n",
       "  <tbody>\n",
       "    <tr>\n",
       "      <th>ali</th>\n",
       "      <td>2</td>\n",
       "      <td>True</td>\n",
       "    </tr>\n",
       "    <tr>\n",
       "      <th>então</th>\n",
       "      <td>1</td>\n",
       "      <td>True</td>\n",
       "    </tr>\n",
       "    <tr>\n",
       "      <th>o</th>\n",
       "      <td>5</td>\n",
       "      <td>True</td>\n",
       "    </tr>\n",
       "  </tbody>\n",
       "</table>\n",
       "</div>"
      ],
      "text/plain": [
       "       count  keyword\n",
       "ali        2     True\n",
       "então      1     True\n",
       "o          5     True"
      ]
     },
     "execution_count": 22,
     "metadata": {},
     "output_type": "execute_result"
    }
   ],
   "source": [
    "keywords_result = result[result['keyword'] == True]\n",
    "keywords_result"
   ]
  },
  {
   "cell_type": "code",
   "execution_count": null,
   "id": "91f057a7",
   "metadata": {},
   "outputs": [],
   "source": []
  }
 ],
 "metadata": {
  "kernelspec": {
   "display_name": "Python 3",
   "language": "python",
   "name": "python3"
  },
  "language_info": {
   "codemirror_mode": {
    "name": "ipython",
    "version": 3
   },
   "file_extension": ".py",
   "mimetype": "text/x-python",
   "name": "python",
   "nbconvert_exporter": "python",
   "pygments_lexer": "ipython3",
   "version": "3.9.5"
  },
  "varInspector": {
   "cols": {
    "lenName": 16,
    "lenType": 16,
    "lenVar": 40
   },
   "kernels_config": {
    "python": {
     "delete_cmd_postfix": "",
     "delete_cmd_prefix": "del ",
     "library": "var_list.py",
     "varRefreshCmd": "print(var_dic_list())"
    },
    "r": {
     "delete_cmd_postfix": ") ",
     "delete_cmd_prefix": "rm(",
     "library": "var_list.r",
     "varRefreshCmd": "cat(var_dic_list()) "
    }
   },
   "types_to_exclude": [
    "module",
    "function",
    "builtin_function_or_method",
    "instance",
    "_Feature"
   ],
   "window_display": false
  }
 },
 "nbformat": 4,
 "nbformat_minor": 5
}
