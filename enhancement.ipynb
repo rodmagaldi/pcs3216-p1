{
 "cells": [
  {
   "cell_type": "markdown",
   "id": "2c27ee97",
   "metadata": {},
   "source": [
    "# Sistemas de Programação - PCS 3216 - Prova 1"
   ]
  },
  {
   "cell_type": "markdown",
   "id": "3ee13a56",
   "metadata": {},
   "source": [
    "## Enunciado 5 - Decomposição de texto"
   ]
  },
  {
   "cell_type": "markdown",
   "id": "e0e22c5c",
   "metadata": {},
   "source": [
    "Neste problema, é dado um arquivo de texto, contendo material redigido em alguma língua natural (por exemplo, um artigo de jornal), e deseja-se coletar dele todas as palavras utilizadas, tabelando-as, ordenando-as alfabeticamente, e memorizando suas ocorrências."
   ]
  },
  {
   "cell_type": "markdown",
   "id": "f1ed86da",
   "metadata": {},
   "source": [
    "Usando uma lista de palavras-chave à sua escolha, separe em duas classes as palavras encontradas no texto, conforme se trate de uma palavra-chave ou uma palavra comum."
   ]
  },
  {
   "cell_type": "code",
   "execution_count": 1,
   "id": "91f057a7",
   "metadata": {
    "ExecuteTime": {
     "end_time": "2021-05-17T06:54:57.291547Z",
     "start_time": "2021-05-17T06:54:57.238066Z"
    }
   },
   "outputs": [],
   "source": [
    "import re\n",
    "from string import punctuation\n",
    "from functools import cmp_to_key\n",
    "import locale\n",
    "\n",
    "locale.setlocale(locale.LC_ALL, 'pt_BR')\n",
    "\n",
    "class EventEngine:\n",
    "    regex_compiler_letters = re.compile('[A-Za-z0-9À-ÿ]')\n",
    "    regex_compiler_blank = re.compile('[\\n\\r\\s]')\n",
    "    \n",
    "    def __init__(self, input_text, keywords):\n",
    "        self.input_text = input_text\n",
    "        self.keywords = keywords\n",
    "        self.input_text_size = len(input_text)\n",
    "        self.words_count = {}\n",
    "        self.current_word = \"\"\n",
    "        self.ordered_count = {}\n",
    "    \n",
    "    def run(self):\n",
    "        iterator = 0\n",
    "        \n",
    "        while iterator < self.input_text_size:\n",
    "            character = self.input_text[iterator]\n",
    "            \n",
    "            if (self.is_letter_or_number(character)):\n",
    "                self.update_current_word(character)\n",
    "            \n",
    "            elif (self.is_space_or_linebreak(character)):\n",
    "                is_valid_word = self.is_current_word_valid()\n",
    "                \n",
    "                if (is_valid_word):\n",
    "                    self.compute_current_word()\n",
    "                    self.empty_current_word()\n",
    "            \n",
    "            elif (self.is_punctuation(character)):\n",
    "                is_valid_word = self.is_current_word_valid()\n",
    "                \n",
    "                if(is_valid_word):\n",
    "                    self.compute_current_word()\n",
    "                    self.empty_current_word()\n",
    "                \n",
    "                self.update_current_word(character)\n",
    "                self.compute_current_word()\n",
    "                self.empty_current_word()\n",
    "                \n",
    "            else:\n",
    "                pass\n",
    "            \n",
    "            iterator += 1\n",
    "            \n",
    "            self.compute_last_word(iterator)\n",
    "            \n",
    "    def generate_results(self):\n",
    "        ordered_keys = sorted(self.words_count.keys(), key=cmp_to_key(locale.strcoll))\n",
    "        for (key) in ordered_keys:\n",
    "            self.ordered_count[key] = self.words_count[key]\n",
    "        return self.ordered_count\n",
    "    \n",
    "    def is_letter_or_number(self, character):\n",
    "        match = EventEngine.regex_compiler_letters.match(character)\n",
    "        if match:\n",
    "            return match.group()\n",
    "        else:\n",
    "            return None\n",
    "    \n",
    "    def is_space_or_linebreak(self, character):\n",
    "        match = EventEngine.regex_compiler_blank.match(character)\n",
    "        if match:\n",
    "            return match.group()\n",
    "        else:\n",
    "            return None\n",
    "    \n",
    "    def is_punctuation(self, character):\n",
    "        return character in punctuation\n",
    "    \n",
    "    def is_current_word_valid(self):\n",
    "        return self.current_word != \"\"\n",
    "    \n",
    "    def update_current_word(self, character):\n",
    "        self.current_word += character\n",
    "    \n",
    "    def compute_current_word(self):\n",
    "        word = self.current_word\n",
    "        words_count = self.words_count\n",
    "        \n",
    "        if (word not in words_count.keys()):\n",
    "            inner_dict = {}\n",
    "            words_count[word] = inner_dict\n",
    "            inner_dict['count'] = 1\n",
    "        \n",
    "            if (word in self.keywords):\n",
    "                inner_dict['keyword'] = True\n",
    "            \n",
    "            else:\n",
    "                inner_dict['keyword'] = False\n",
    "        \n",
    "        else:\n",
    "            words_count[word]['count'] += 1\n",
    "            \n",
    "    def empty_current_word(self):\n",
    "        self.current_word = \"\"\n",
    "        \n",
    "    def compute_last_word(self, iterator):\n",
    "        if (iterator == self.input_text_size and self.is_current_word_valid()):\n",
    "            self.compute_current_word()"
   ]
  },
  {
   "cell_type": "code",
   "execution_count": 2,
   "id": "5f0ffee6",
   "metadata": {
    "ExecuteTime": {
     "end_time": "2021-05-17T06:54:58.189379Z",
     "start_time": "2021-05-17T06:54:58.168335Z"
    }
   },
   "outputs": [],
   "source": [
    "class Runner:\n",
    "    def __init__(self, input_file_path, keywords):\n",
    "        self.input_file_path = input_file_path\n",
    "        self.keywords = keywords\n",
    "        self.file_content = \"\"\n",
    "    \n",
    "    def configure_file(self):\n",
    "        with open(self.input_file_path, 'r', encoding='utf-8') as text_file:\n",
    "            self.file_content = text_file.read().lower()\n",
    "        \n",
    "    def configure_keywords(self):\n",
    "        self.keywords = list(map(lambda item: item.lower(), self.keywords))\n",
    "        \n",
    "    def run(self):\n",
    "        self.configure_file()\n",
    "        self.configure_keywords()\n",
    "        \n",
    "        word_counter = EventEngine(self.file_content.lower(), self.keywords)\n",
    "        word_counter.run()\n",
    "        \n",
    "        return word_counter.generate_results()"
   ]
  },
  {
   "cell_type": "code",
   "execution_count": 3,
   "id": "c7512580",
   "metadata": {
    "ExecuteTime": {
     "end_time": "2021-05-17T06:54:59.324178Z",
     "start_time": "2021-05-17T06:54:58.949182Z"
    }
   },
   "outputs": [],
   "source": [
    "import pandas as pd\n",
    "\n",
    "class ResultHandler:\n",
    "    def __init__(self, results_dict, save_path):\n",
    "        self.results_dict = results_dict\n",
    "        self.save_path = save_path\n",
    "        self.results_dataframe = None\n",
    "        \n",
    "    def configure_pd(self):\n",
    "        self.results_dataframe = pd.DataFrame.from_dict(self.results_dict, orient='index')\n",
    "        pd.set_option('display.max_rows', None)\n",
    "        \n",
    "    def save_results(self):\n",
    "        self.configure_pd()\n",
    "        self.results_dataframe.to_csv(self.save_path, index=True)"
   ]
  },
  {
   "cell_type": "code",
   "execution_count": 4,
   "id": "1784b597",
   "metadata": {
    "ExecuteTime": {
     "end_time": "2021-05-17T06:55:09.561963Z",
     "start_time": "2021-05-17T06:55:09.540921Z"
    }
   },
   "outputs": [],
   "source": [
    "keywords_list = ['o', 'Então', 'ali', ',']\n",
    "runner = Runner('teste.txt', keywords_list)\n",
    "results = runner.run()\n",
    "handler = ResultHandler(results, 'teste.csv')\n",
    "handler.save_results()"
   ]
  },
  {
   "cell_type": "code",
   "execution_count": null,
   "id": "1efd2318",
   "metadata": {},
   "outputs": [],
   "source": []
  },
  {
   "cell_type": "code",
   "execution_count": 5,
   "id": "0edd3070",
   "metadata": {
    "ExecuteTime": {
     "end_time": "2021-05-17T06:42:54.837802Z",
     "start_time": "2021-05-17T06:42:54.807831Z"
    }
   },
   "outputs": [
    {
     "output_type": "error",
     "ename": "NameError",
     "evalue": "name 'result' is not defined",
     "traceback": [
      "\u001b[1;31m---------------------------------------------------------------------------\u001b[0m",
      "\u001b[1;31mNameError\u001b[0m                                 Traceback (most recent call last)",
      "\u001b[1;32m<ipython-input-5-0ac921c19f1a>\u001b[0m in \u001b[0;36m<module>\u001b[1;34m\u001b[0m\n\u001b[1;32m----> 1\u001b[1;33m \u001b[0mresult\u001b[0m\u001b[1;33m\u001b[0m\u001b[1;33m\u001b[0m\u001b[0m\n\u001b[0m",
      "\u001b[1;31mNameError\u001b[0m: name 'result' is not defined"
     ]
    }
   ],
   "source": [
    "result"
   ]
  },
  {
   "cell_type": "code",
   "execution_count": 7,
   "id": "b56b1457",
   "metadata": {
    "ExecuteTime": {
     "end_time": "2021-05-17T06:42:55.795283Z",
     "start_time": "2021-05-17T06:42:55.769306Z"
    }
   },
   "outputs": [
    {
     "data": {
      "text/html": [
       "<div>\n",
       "<style scoped>\n",
       "    .dataframe tbody tr th:only-of-type {\n",
       "        vertical-align: middle;\n",
       "    }\n",
       "\n",
       "    .dataframe tbody tr th {\n",
       "        vertical-align: top;\n",
       "    }\n",
       "\n",
       "    .dataframe thead th {\n",
       "        text-align: right;\n",
       "    }\n",
       "</style>\n",
       "<table border=\"1\" class=\"dataframe\">\n",
       "  <thead>\n",
       "    <tr style=\"text-align: right;\">\n",
       "      <th></th>\n",
       "      <th>count</th>\n",
       "      <th>keyword</th>\n",
       "    </tr>\n",
       "  </thead>\n",
       "  <tbody>\n",
       "    <tr>\n",
       "      <th>,</th>\n",
       "      <td>8</td>\n",
       "      <td>True</td>\n",
       "    </tr>\n",
       "    <tr>\n",
       "      <th>ali</th>\n",
       "      <td>2</td>\n",
       "      <td>True</td>\n",
       "    </tr>\n",
       "    <tr>\n",
       "      <th>então</th>\n",
       "      <td>1</td>\n",
       "      <td>True</td>\n",
       "    </tr>\n",
       "    <tr>\n",
       "      <th>o</th>\n",
       "      <td>5</td>\n",
       "      <td>True</td>\n",
       "    </tr>\n",
       "  </tbody>\n",
       "</table>\n",
       "</div>"
      ],
      "text/plain": [
       "       count  keyword\n",
       ",          8     True\n",
       "ali        2     True\n",
       "então      1     True\n",
       "o          5     True"
      ]
     },
     "execution_count": 7,
     "metadata": {},
     "output_type": "execute_result"
    }
   ],
   "source": [
    "keywords_result = result[result['keyword'] == True]\n",
    "keywords_result"
   ]
  },
  {
   "cell_type": "code",
   "execution_count": null,
   "id": "7be6b834",
   "metadata": {},
   "outputs": [],
   "source": []
  }
 ],
 "metadata": {
  "kernelspec": {
   "display_name": "Python 3",
   "language": "python",
   "name": "python3"
  },
  "language_info": {
   "codemirror_mode": {
    "name": "ipython",
    "version": 3
   },
   "file_extension": ".py",
   "mimetype": "text/x-python",
   "name": "python",
   "nbconvert_exporter": "python",
   "pygments_lexer": "ipython3",
   "version": "3.9.5-final"
  },
  "varInspector": {
   "cols": {
    "lenName": 16,
    "lenType": 16,
    "lenVar": 40
   },
   "kernels_config": {
    "python": {
     "delete_cmd_postfix": "",
     "delete_cmd_prefix": "del ",
     "library": "var_list.py",
     "varRefreshCmd": "print(var_dic_list())"
    },
    "r": {
     "delete_cmd_postfix": ") ",
     "delete_cmd_prefix": "rm(",
     "library": "var_list.r",
     "varRefreshCmd": "cat(var_dic_list()) "
    }
   },
   "position": {
    "height": "255.8px",
    "left": "1171px",
    "right": "20px",
    "top": "168px",
    "width": "350px"
   },
   "types_to_exclude": [
    "module",
    "function",
    "builtin_function_or_method",
    "instance",
    "_Feature"
   ],
   "window_display": false
  }
 },
 "nbformat": 4,
 "nbformat_minor": 5
}